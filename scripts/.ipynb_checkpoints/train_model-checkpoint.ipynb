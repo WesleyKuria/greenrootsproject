{
 "cells": [
  {
   "cell_type": "code",
   "execution_count": 1,
   "metadata": {
    "id": "xQb_8MMtMcID"
   },
   "outputs": [
    {
     "name": "stderr",
     "output_type": "stream",
     "text": [
      "\n",
      "[notice] A new release of pip is available: 25.0.1 -> 25.2\n",
      "[notice] To update, run: python.exe -m pip install --upgrade pip\n"
     ]
    }
   ],
   "source": [
    "!pip install -q numpy pandas scikit-learn matplotlib joblib"
   ]
  },
  {
   "cell_type": "code",
   "execution_count": 3,
   "metadata": {},
   "outputs": [
    {
     "data": {
      "text/html": [
       "<div>\n",
       "<style scoped>\n",
       "    .dataframe tbody tr th:only-of-type {\n",
       "        vertical-align: middle;\n",
       "    }\n",
       "\n",
       "    .dataframe tbody tr th {\n",
       "        vertical-align: top;\n",
       "    }\n",
       "\n",
       "    .dataframe thead th {\n",
       "        text-align: right;\n",
       "    }\n",
       "</style>\n",
       "<table border=\"1\" class=\"dataframe\">\n",
       "  <thead>\n",
       "    <tr style=\"text-align: right;\">\n",
       "      <th></th>\n",
       "      <th>year</th>\n",
       "      <th>mean_ndvi</th>\n",
       "    </tr>\n",
       "  </thead>\n",
       "  <tbody>\n",
       "    <tr>\n",
       "      <th>0</th>\n",
       "      <td>1999</td>\n",
       "      <td>0.130197</td>\n",
       "    </tr>\n",
       "    <tr>\n",
       "      <th>1</th>\n",
       "      <td>2004</td>\n",
       "      <td>0.080513</td>\n",
       "    </tr>\n",
       "    <tr>\n",
       "      <th>2</th>\n",
       "      <td>2009</td>\n",
       "      <td>0.078533</td>\n",
       "    </tr>\n",
       "    <tr>\n",
       "      <th>3</th>\n",
       "      <td>2014</td>\n",
       "      <td>0.267574</td>\n",
       "    </tr>\n",
       "    <tr>\n",
       "      <th>4</th>\n",
       "      <td>2019</td>\n",
       "      <td>0.240280</td>\n",
       "    </tr>\n",
       "    <tr>\n",
       "      <th>5</th>\n",
       "      <td>2020</td>\n",
       "      <td>0.352359</td>\n",
       "    </tr>\n",
       "    <tr>\n",
       "      <th>6</th>\n",
       "      <td>2021</td>\n",
       "      <td>0.262297</td>\n",
       "    </tr>\n",
       "    <tr>\n",
       "      <th>7</th>\n",
       "      <td>2022</td>\n",
       "      <td>0.223798</td>\n",
       "    </tr>\n",
       "    <tr>\n",
       "      <th>8</th>\n",
       "      <td>2023</td>\n",
       "      <td>0.313109</td>\n",
       "    </tr>\n",
       "  </tbody>\n",
       "</table>\n",
       "</div>"
      ],
      "text/plain": [
       "   year  mean_ndvi\n",
       "0  1999   0.130197\n",
       "1  2004   0.080513\n",
       "2  2009   0.078533\n",
       "3  2014   0.267574\n",
       "4  2019   0.240280\n",
       "5  2020   0.352359\n",
       "6  2021   0.262297\n",
       "7  2022   0.223798\n",
       "8  2023   0.313109"
      ]
     },
     "execution_count": 3,
     "metadata": {},
     "output_type": "execute_result"
    }
   ],
   "source": [
    "import os\n",
    "import numpy as np\n",
    "import pandas as pd\n",
    "import matplotlib.pyplot as plt\n",
    "from sklearn.ensemble import RandomForestRegressor\n",
    "from sklearn.model_selection import train_test_split\n",
    "from sklearn.metrics import mean_squared_error, r2_score\n",
    "import joblib\n",
    "\n",
    "# Make sure the CSV exists (adjust path if you moved files)\n",
    "csv_path = 'frontend_data/kilifi_ndvi_summary.csv'\n",
    "assert os.path.exists(csv_path), f\"Missing {csv_path} — run download_data.ipynb first.\"\n",
    "\n",
    "df = pd.read_csv(csv_path)\n",
    "df\n"
   ]
  },
  {
   "cell_type": "code",
   "execution_count": 4,
   "metadata": {
    "colab": {
     "base_uri": "https://localhost:8080/"
    },
    "id": "Ic9zDnf86GGH",
    "outputId": "1fe85f0c-d8ea-4617-b686-aa2f6e90357a"
   },
   "outputs": [
    {
     "data": {
      "text/plain": [
       "(5, 4, array([2023, 2009, 2019]), array([0.31310906, 0.07853269, 0.24027958]))"
      ]
     },
     "execution_count": 4,
     "metadata": {},
     "output_type": "execute_result"
    }
   ],
   "source": [
    "# Features: year (numeric). Target: mean_ndvi (continuous)\n",
    "X = df[['year']].astype(int).values\n",
    "y = df['mean_ndvi'].astype(float).values\n",
    "\n",
    "# Train/test split\n",
    "X_train, X_test, y_train, y_test = train_test_split(\n",
    "    X, y, test_size=0.35, random_state=42\n",
    ")\n",
    "\n",
    "len(X_train), len(X_test), X_train[:3].ravel(), y_train[:3]\n"
   ]
  },
  {
   "cell_type": "code",
   "execution_count": 9,
   "metadata": {
    "colab": {
     "base_uri": "https://localhost:8080/"
    },
    "id": "YYuvzmN46HqH",
    "outputId": "d2cb0549-6b8e-4118-9c07-ab780a351933"
   },
   "outputs": [
    {
     "name": "stdout",
     "output_type": "stream",
     "text": [
      "RMSE: 0.0627   R²: 0.634\n"
     ]
    }
   ],
   "source": [
    "rf = RandomForestRegressor(\n",
    "    n_estimators=400,\n",
    "    random_state=42\n",
    ")\n",
    "rf.fit(X_train, y_train)\n",
    "\n",
    "y_pred = rf.predict(X_test)\n",
    "rmse = np.sqrt(mean_squared_error(y_test, y_pred))\n",
    "r2   = r2_score(y_test, y_pred)\n",
    "print(f\"RMSE: {rmse:.4f}   R²: {r2:.3f}\")\n"
   ]
  },
  {
   "cell_type": "code",
   "execution_count": 6,
   "metadata": {
    "id": "g2iHA5556Ljw"
   },
   "outputs": [
    {
     "data": {
      "image/png": "[encoded data removed]",
      "text/plain": [
       "<Figure size 800x500 with 1 Axes>"
      ]
     },
     "metadata": {},
     "output_type": "display_data"
    },
    {
     "name": "stdout",
     "output_type": "stream",
     "text": [
      "Saved model: models/kilifi_ndvi_rf.pkl\n"
     ]
    }
   ],
   "source": [
    "plt.figure(figsize=(8,5))\n",
    "plt.scatter(X, y, label='Observed', alpha=0.8)\n",
    "xs = np.arange(df['year'].min(), df['year'].max()+1).reshape(-1,1)\n",
    "plt.plot(xs, rf.predict(xs), label='RF fit', linewidth=2)\n",
    "plt.xlabel('Year'); plt.ylabel('Mean NDVI'); plt.title('Mean NDVI over time (Kilifi)')\n",
    "plt.grid(True); plt.legend()\n",
    "plt.show()\n",
    "\n",
    "os.makedirs('models', exist_ok=True)\n",
    "model_path = 'models/kilifi_ndvi_rf.pkl'\n",
    "joblib.dump(rf, model_path)\n",
    "print(\"Saved model:\", model_path)\n"
   ]
  },
  {
   "cell_type": "code",
   "execution_count": 7,
   "metadata": {
    "id": "6mkgQJaf6O2w"
   },
   "outputs": [
    {
     "name": "stdout",
     "output_type": "stream",
     "text": [
      "   year  pred_mean_ndvi\n",
      "0  2024        0.296669\n",
      "1  2025        0.296669\n",
      "2  2026        0.296669\n",
      "3  2027        0.296669\n",
      "4  2028        0.296669\n",
      "5  2029        0.296669\n",
      "6  2030        0.296669\n",
      "Saved: predictions/kilifi_ndvi_forecast.csv\n"
     ]
    }
   ],
   "source": [
    "# Predict upcoming years (adjust as you like)\n",
    "future_years = np.array(list(range(2024, 2031))).reshape(-1,1)\n",
    "future_preds = rf.predict(future_years)\n",
    "\n",
    "pred_df = pd.DataFrame({\n",
    "    'year': future_years.ravel(),\n",
    "    'pred_mean_ndvi': future_preds\n",
    "})\n",
    "print(pred_df)\n",
    "\n",
    "os.makedirs('predictions', exist_ok=True)\n",
    "pred_csv = 'predictions/kilifi_ndvi_forecast.csv'\n",
    "pred_df.to_csv(pred_csv, index=False)\n",
    "print(\"Saved:\", pred_csv)\n"
   ]
  },
  {
   "cell_type": "code",
   "execution_count": 8,
   "metadata": {
    "id": "b5NkCCkc6RzI"
   },
   "outputs": [
    {
     "name": "stdout",
     "output_type": "stream",
     "text": [
      "2026 0.29666907988059826\n"
     ]
    }
   ],
   "source": [
    "# Change this value to test specific years\n",
    "year_to_predict = 2026\n",
    "print(year_to_predict, float(rf.predict(np.array([[year_to_predict]]))[0]))\n"
   ]
  }
 ],
 "metadata": {
  "colab": {
   "provenance": []
  },
  "kernelspec": {
   "display_name": "Python 3 (ipykernel)",
   "language": "python",
   "name": "python3"
  },
  "language_info": {
   "codemirror_mode": {
    "name": "ipython",
    "version": 3
   },
   "file_extension": ".py",
   "mimetype": "text/x-python",
   "name": "python",
   "nbconvert_exporter": "python",
   "pygments_lexer": "ipython3",
   "version": "3.12.10"
  }
 },
 "nbformat": 4,
 "nbformat_minor": 4
}
